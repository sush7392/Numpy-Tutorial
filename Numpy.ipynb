{
 "cells": [
  {
   "cell_type": "markdown",
   "id": "61fb5acf",
   "metadata": {},
   "source": [
    "## Importing the library "
   ]
  },
  {
   "cell_type": "code",
   "execution_count": 1,
   "id": "ded9834e",
   "metadata": {},
   "outputs": [],
   "source": [
    "import numpy as np"
   ]
  },
  {
   "cell_type": "markdown",
   "id": "1e7422f1",
   "metadata": {},
   "source": [
    "### Create an one dimensional array"
   ]
  },
  {
   "cell_type": "code",
   "execution_count": 2,
   "id": "d25e7522",
   "metadata": {},
   "outputs": [
    {
     "data": {
      "text/plain": [
       "array([1, 2, 3, 4, 5])"
      ]
     },
     "execution_count": 2,
     "metadata": {},
     "output_type": "execute_result"
    }
   ],
   "source": [
    "num = [1,2,3,4,5]\n",
    "num = np.array(num)\n",
    "num"
   ]
  },
  {
   "cell_type": "markdown",
   "id": "a7d33dcf",
   "metadata": {},
   "source": [
    "### Creating a Two-Dimensional array"
   ]
  },
  {
   "cell_type": "code",
   "execution_count": 3,
   "id": "4579aa56",
   "metadata": {},
   "outputs": [
    {
     "data": {
      "text/plain": [
       "array([[1, 2, 3, 4],\n",
       "       [5, 6, 7, 8]])"
      ]
     },
     "execution_count": 3,
     "metadata": {},
     "output_type": "execute_result"
    }
   ],
   "source": [
    "num = [[1,2,3,4],[5,6,7,8]]\n",
    "num = np.array(num)\n",
    "num"
   ]
  },
  {
   "cell_type": "markdown",
   "id": "84708645",
   "metadata": {},
   "source": [
    "### Checking the dimension of the array"
   ]
  },
  {
   "cell_type": "code",
   "execution_count": 4,
   "id": "d9143749",
   "metadata": {},
   "outputs": [
    {
     "data": {
      "text/plain": [
       "2"
      ]
     },
     "execution_count": 4,
     "metadata": {},
     "output_type": "execute_result"
    }
   ],
   "source": [
    "num.ndim"
   ]
  },
  {
   "cell_type": "markdown",
   "id": "471c84df",
   "metadata": {},
   "source": [
    "### Checking the shape of teh array"
   ]
  },
  {
   "cell_type": "code",
   "execution_count": 5,
   "id": "a7c0672f",
   "metadata": {},
   "outputs": [
    {
     "data": {
      "text/plain": [
       "(2, 4)"
      ]
     },
     "execution_count": 5,
     "metadata": {},
     "output_type": "execute_result"
    }
   ],
   "source": [
    "num.shape"
   ]
  },
  {
   "cell_type": "markdown",
   "id": "e84dd359",
   "metadata": {},
   "source": [
    "### Getting the size of the array"
   ]
  },
  {
   "cell_type": "code",
   "execution_count": 6,
   "id": "1465b059",
   "metadata": {},
   "outputs": [
    {
     "data": {
      "text/plain": [
       "8"
      ]
     },
     "execution_count": 6,
     "metadata": {},
     "output_type": "execute_result"
    }
   ],
   "source": [
    "num.size"
   ]
  },
  {
   "cell_type": "markdown",
   "id": "885451fd",
   "metadata": {},
   "source": [
    "### Getting the datatype of a variable"
   ]
  },
  {
   "cell_type": "code",
   "execution_count": 7,
   "id": "85e2b144",
   "metadata": {},
   "outputs": [
    {
     "data": {
      "text/plain": [
       "dtype('int64')"
      ]
     },
     "execution_count": 7,
     "metadata": {},
     "output_type": "execute_result"
    }
   ],
   "source": [
    "num.dtype"
   ]
  },
  {
   "cell_type": "markdown",
   "id": "63c6f822",
   "metadata": {},
   "source": [
    "### Creating an array using the zeros function"
   ]
  },
  {
   "cell_type": "code",
   "execution_count": 8,
   "id": "b5325ed6",
   "metadata": {},
   "outputs": [
    {
     "data": {
      "text/plain": [
       "array([0., 0., 0., 0., 0.])"
      ]
     },
     "execution_count": 8,
     "metadata": {},
     "output_type": "execute_result"
    }
   ],
   "source": [
    "num = np.zeros(5)\n",
    "num"
   ]
  },
  {
   "cell_type": "markdown",
   "id": "7414164d",
   "metadata": {},
   "source": [
    "### creating a two dimensional array using the zeros function"
   ]
  },
  {
   "cell_type": "code",
   "execution_count": 9,
   "id": "3e08c031",
   "metadata": {},
   "outputs": [
    {
     "data": {
      "text/plain": [
       "array([[0., 0., 0., 0., 0.],\n",
       "       [0., 0., 0., 0., 0.],\n",
       "       [0., 0., 0., 0., 0.],\n",
       "       [0., 0., 0., 0., 0.],\n",
       "       [0., 0., 0., 0., 0.]])"
      ]
     },
     "execution_count": 9,
     "metadata": {},
     "output_type": "execute_result"
    }
   ],
   "source": [
    "num = np.zeros((5,5))\n",
    "num"
   ]
  },
  {
   "cell_type": "markdown",
   "id": "9c524241",
   "metadata": {},
   "source": [
    "### Creating an array using the ones function"
   ]
  },
  {
   "cell_type": "code",
   "execution_count": 10,
   "id": "b116741e",
   "metadata": {},
   "outputs": [
    {
     "data": {
      "text/plain": [
       "array([1., 1., 1., 1.])"
      ]
     },
     "execution_count": 10,
     "metadata": {},
     "output_type": "execute_result"
    }
   ],
   "source": [
    "num = np.ones(4)\n",
    "num"
   ]
  },
  {
   "cell_type": "markdown",
   "id": "37c3cc4d",
   "metadata": {},
   "source": [
    "### Creating an two dimensional array using the ones function"
   ]
  },
  {
   "cell_type": "code",
   "execution_count": 11,
   "id": "4fd3f9c5",
   "metadata": {},
   "outputs": [
    {
     "data": {
      "text/plain": [
       "array([[1., 1., 1., 1., 1.],\n",
       "       [1., 1., 1., 1., 1.],\n",
       "       [1., 1., 1., 1., 1.],\n",
       "       [1., 1., 1., 1., 1.],\n",
       "       [1., 1., 1., 1., 1.]])"
      ]
     },
     "execution_count": 11,
     "metadata": {},
     "output_type": "execute_result"
    }
   ],
   "source": [
    "num = np.ones((5,5))\n",
    "num"
   ]
  },
  {
   "cell_type": "markdown",
   "id": "36b90d97",
   "metadata": {},
   "source": [
    "### Creating  a diagnoal matrix to ones and other element to zeros"
   ]
  },
  {
   "cell_type": "code",
   "execution_count": 12,
   "id": "3c2deb39",
   "metadata": {},
   "outputs": [
    {
     "data": {
      "text/plain": [
       "array([[1., 0., 0., 0.],\n",
       "       [0., 1., 0., 0.],\n",
       "       [0., 0., 1., 0.],\n",
       "       [0., 0., 0., 1.]])"
      ]
     },
     "execution_count": 12,
     "metadata": {},
     "output_type": "execute_result"
    }
   ],
   "source": [
    "num = np.eye(4)\n",
    "num"
   ]
  },
  {
   "cell_type": "markdown",
   "id": "34b3153a",
   "metadata": {},
   "source": [
    "### Creating a square matrix"
   ]
  },
  {
   "cell_type": "code",
   "execution_count": 13,
   "id": "6435f427",
   "metadata": {},
   "outputs": [
    {
     "data": {
      "text/plain": [
       "array([[1, 0, 0, 0, 0],\n",
       "       [0, 2, 0, 0, 0],\n",
       "       [0, 0, 3, 0, 0],\n",
       "       [0, 0, 0, 4, 0],\n",
       "       [0, 0, 0, 0, 5]])"
      ]
     },
     "execution_count": 13,
     "metadata": {},
     "output_type": "execute_result"
    }
   ],
   "source": [
    "num = np.diag([1,2,3,4,5])\n",
    "num"
   ]
  },
  {
   "cell_type": "markdown",
   "id": "a28c9d55",
   "metadata": {},
   "source": [
    "### Getting the diagonal of the array using the diag function"
   ]
  },
  {
   "cell_type": "code",
   "execution_count": 14,
   "id": "d0e37029",
   "metadata": {},
   "outputs": [
    {
     "data": {
      "text/plain": [
       "array([ 1,  6, 11, 16])"
      ]
     },
     "execution_count": 14,
     "metadata": {},
     "output_type": "execute_result"
    }
   ],
   "source": [
    "num = ([1,2,3,4],[5,6,4,8],[9,10,11,12],[13,14,15,16])\n",
    "num = np.array(num)\n",
    "num = np.diag(num)\n",
    "num"
   ]
  },
  {
   "cell_type": "markdown",
   "id": "ad6d9453",
   "metadata": {},
   "source": [
    "### Generating the random number between the number which we specify by using the random function"
   ]
  },
  {
   "cell_type": "code",
   "execution_count": 15,
   "id": "c5e4e555",
   "metadata": {},
   "outputs": [
    {
     "data": {
      "text/plain": [
       "array([17, 11, 13, 15])"
      ]
     },
     "execution_count": 15,
     "metadata": {},
     "output_type": "execute_result"
    }
   ],
   "source": [
    "num = np.random.randint(10,20,4)\n",
    "num"
   ]
  },
  {
   "cell_type": "markdown",
   "id": "6dc87951",
   "metadata": {},
   "source": [
    "### Generating the random number between 0 and 1 using rand function"
   ]
  },
  {
   "cell_type": "code",
   "execution_count": 16,
   "id": "813e4332",
   "metadata": {},
   "outputs": [
    {
     "data": {
      "text/plain": [
       "array([0.05035348, 0.34896451, 0.7770278 , 0.58691296, 0.6356991 ])"
      ]
     },
     "execution_count": 16,
     "metadata": {},
     "output_type": "execute_result"
    }
   ],
   "source": [
    "num = np.random.rand(5)\n",
    "num"
   ]
  },
  {
   "cell_type": "markdown",
   "id": "8baa17ff",
   "metadata": {},
   "source": [
    "### Generating a two dimensional array using the rand function"
   ]
  },
  {
   "cell_type": "code",
   "execution_count": 17,
   "id": "543a34de",
   "metadata": {},
   "outputs": [
    {
     "data": {
      "text/plain": [
       "array([[0.84590927, 0.11268293],\n",
       "       [0.39392254, 0.03724412],\n",
       "       [0.64765339, 0.03582549],\n",
       "       [0.74168541, 0.51629458],\n",
       "       [0.70555246, 0.84476805]])"
      ]
     },
     "execution_count": 17,
     "metadata": {},
     "output_type": "execute_result"
    }
   ],
   "source": [
    "num = np.random.rand(5,2)\n",
    "num"
   ]
  },
  {
   "cell_type": "markdown",
   "id": "28dcae91",
   "metadata": {},
   "source": [
    "### Getting the random number which is centered to zero i.e zero will be the center by using randn function"
   ]
  },
  {
   "cell_type": "code",
   "execution_count": 18,
   "id": "daba0c7f",
   "metadata": {},
   "outputs": [
    {
     "data": {
      "text/plain": [
       "array([ 0.55312562, -0.01735536,  1.47255563,  1.34950345])"
      ]
     },
     "execution_count": 18,
     "metadata": {},
     "output_type": "execute_result"
    }
   ],
   "source": [
    "num = np.random.randn(4)\n",
    "num"
   ]
  },
  {
   "cell_type": "markdown",
   "id": "9bef3f1a",
   "metadata": {},
   "source": [
    "### Getting the random two dimensional array which is centered to zero i.e zero will be the center by using randn function"
   ]
  },
  {
   "cell_type": "code",
   "execution_count": 19,
   "id": "5e3f1bdd",
   "metadata": {},
   "outputs": [
    {
     "data": {
      "text/plain": [
       "array([[ 0.03609927, -0.79912061],\n",
       "       [ 0.63739911,  0.53589024],\n",
       "       [-0.50806882, -0.90989711],\n",
       "       [-0.01944074,  1.20630133]])"
      ]
     },
     "execution_count": 19,
     "metadata": {},
     "output_type": "execute_result"
    }
   ],
   "source": [
    "num = np.random.randn(4,2)\n",
    "num"
   ]
  },
  {
   "cell_type": "markdown",
   "id": "51a5acc7",
   "metadata": {},
   "source": [
    "### Reshaping the one dimensional data to any dimension by using the reshape function"
   ]
  },
  {
   "cell_type": "code",
   "execution_count": 20,
   "id": "8eac06da",
   "metadata": {},
   "outputs": [
    {
     "data": {
      "text/plain": [
       "array([[ 1, 39, 96, 14, 20],\n",
       "       [63, 65, 50, 99, 54],\n",
       "       [23, 13, 47, 97, 90],\n",
       "       [39, 66, 78, 70, 77],\n",
       "       [53, 42, 91, 96, 65],\n",
       "       [25, 25, 55, 96, 95],\n",
       "       [14, 71, 64, 69, 93],\n",
       "       [10, 29, 11, 21, 40]])"
      ]
     },
     "execution_count": 20,
     "metadata": {},
     "output_type": "execute_result"
    }
   ],
   "source": [
    "num = np.random.randint(1,100,40)\n",
    "num = num.reshape(8,5)\n",
    "num"
   ]
  },
  {
   "cell_type": "markdown",
   "id": "ac51cd50",
   "metadata": {},
   "source": [
    "### Genarating the same random array after every exectuion by using the seed function"
   ]
  },
  {
   "cell_type": "code",
   "execution_count": 21,
   "id": "313d62e0",
   "metadata": {},
   "outputs": [
    {
     "data": {
      "text/plain": [
       "array([76, 28,  7,  3,  4, 68, 77, 49, 23, 50, 53,  6, 14, 90, 35, 76, 75,\n",
       "        1, 77, 14])"
      ]
     },
     "execution_count": 21,
     "metadata": {},
     "output_type": "execute_result"
    }
   ],
   "source": [
    "np.random.seed(12)\n",
    "arr = np.random.randint(1,101,20)\n",
    "arr"
   ]
  },
  {
   "cell_type": "markdown",
   "id": "c73efe70",
   "metadata": {},
   "source": [
    "### Genarating the same random two dimensional array after every exectuion by using the seed function"
   ]
  },
  {
   "cell_type": "code",
   "execution_count": 22,
   "id": "3666e98b",
   "metadata": {},
   "outputs": [
    {
     "data": {
      "text/plain": [
       "array([[76, 28,  7,  3,  4],\n",
       "       [68, 77, 49, 23, 50],\n",
       "       [53,  6, 14, 90, 35],\n",
       "       [76, 75,  1, 77, 14]])"
      ]
     },
     "execution_count": 22,
     "metadata": {},
     "output_type": "execute_result"
    }
   ],
   "source": [
    "np.random.seed(12)\n",
    "arr = np.random.randint(1,101,20)\n",
    "arr = arr.reshape(4,5)\n",
    "arr"
   ]
  },
  {
   "cell_type": "markdown",
   "id": "031f64e3",
   "metadata": {},
   "source": [
    "### So when we do not use the seed function the data will get change after every execution"
   ]
  },
  {
   "cell_type": "code",
   "execution_count": 23,
   "id": "95165c89",
   "metadata": {},
   "outputs": [
    {
     "data": {
      "text/plain": [
       "array([[83, 90, 36, 63, 36],\n",
       "       [34, 31, 64, 97, 19],\n",
       "       [87, 51, 81, 85,  7],\n",
       "       [74, 46, 31, 33, 28]])"
      ]
     },
     "execution_count": 23,
     "metadata": {},
     "output_type": "execute_result"
    }
   ],
   "source": [
    "arr = np.random.randint(1,101,20)\n",
    "arr = arr.reshape(4,5)\n",
    "arr"
   ]
  },
  {
   "cell_type": "markdown",
   "id": "62485b64",
   "metadata": {},
   "source": [
    "### Getting the count of number present in a variable"
   ]
  },
  {
   "cell_type": "code",
   "execution_count": 24,
   "id": "4f8f705b",
   "metadata": {},
   "outputs": [
    {
     "data": {
      "text/plain": [
       "20"
      ]
     },
     "execution_count": 24,
     "metadata": {},
     "output_type": "execute_result"
    }
   ],
   "source": [
    "arr.size"
   ]
  },
  {
   "cell_type": "markdown",
   "id": "06729c31",
   "metadata": {},
   "source": [
    "## Indexing"
   ]
  },
  {
   "cell_type": "code",
   "execution_count": 25,
   "id": "d770113f",
   "metadata": {},
   "outputs": [
    {
     "data": {
      "text/plain": [
       "array([[76, 28,  7,  3,  4, 68],\n",
       "       [77, 49, 23, 50, 53,  6],\n",
       "       [14, 90, 35, 76, 75,  1],\n",
       "       [77, 14, 83, 90, 36, 63],\n",
       "       [36, 34, 31, 64, 97, 19],\n",
       "       [87, 51, 81, 85,  7, 74]])"
      ]
     },
     "execution_count": 25,
     "metadata": {},
     "output_type": "execute_result"
    }
   ],
   "source": [
    "np.random.seed(12)\n",
    "arr = np.random.randint(1,101,36)\n",
    "arr = arr.reshape(6,6)\n",
    "arr"
   ]
  },
  {
   "cell_type": "markdown",
   "id": "f8e5f57b",
   "metadata": {},
   "source": [
    "#### Getting a whole row"
   ]
  },
  {
   "cell_type": "code",
   "execution_count": 26,
   "id": "427b5b81",
   "metadata": {},
   "outputs": [
    {
     "data": {
      "text/plain": [
       "array([77, 49, 23, 50, 53,  6])"
      ]
     },
     "execution_count": 26,
     "metadata": {},
     "output_type": "execute_result"
    }
   ],
   "source": [
    "arr[1]"
   ]
  },
  {
   "cell_type": "markdown",
   "id": "78e67e22",
   "metadata": {},
   "source": [
    "#### Getting a whole column"
   ]
  },
  {
   "cell_type": "code",
   "execution_count": 27,
   "id": "efc7eb99",
   "metadata": {},
   "outputs": [
    {
     "data": {
      "text/plain": [
       "array([[76, 28,  7,  3,  4, 68]])"
      ]
     },
     "execution_count": 27,
     "metadata": {},
     "output_type": "execute_result"
    }
   ],
   "source": [
    "arr[:1]"
   ]
  },
  {
   "cell_type": "markdown",
   "id": "b9f5861e",
   "metadata": {},
   "source": [
    "#### Getting a particular value i.e second row first column"
   ]
  },
  {
   "cell_type": "code",
   "execution_count": 28,
   "id": "0061668b",
   "metadata": {},
   "outputs": [
    {
     "data": {
      "text/plain": [
       "90"
      ]
     },
     "execution_count": 28,
     "metadata": {},
     "output_type": "execute_result"
    }
   ],
   "source": [
    "arr[2,1]"
   ]
  },
  {
   "cell_type": "code",
   "execution_count": 29,
   "id": "7d919beb",
   "metadata": {},
   "outputs": [
    {
     "data": {
      "text/plain": [
       "35"
      ]
     },
     "execution_count": 29,
     "metadata": {},
     "output_type": "execute_result"
    }
   ],
   "source": [
    "arr[2,2]"
   ]
  },
  {
   "cell_type": "code",
   "execution_count": 30,
   "id": "dabab7bd",
   "metadata": {},
   "outputs": [
    {
     "data": {
      "text/plain": [
       "64"
      ]
     },
     "execution_count": 30,
     "metadata": {},
     "output_type": "execute_result"
    }
   ],
   "source": [
    "arr[4,3]"
   ]
  },
  {
   "cell_type": "markdown",
   "id": "17d0d0b6",
   "metadata": {},
   "source": [
    "## Slicing"
   ]
  },
  {
   "cell_type": "code",
   "execution_count": 31,
   "id": "131c81ce",
   "metadata": {},
   "outputs": [
    {
     "data": {
      "text/plain": [
       "array([[76, 28,  7,  3,  4, 68],\n",
       "       [77, 49, 23, 50, 53,  6],\n",
       "       [14, 90, 35, 76, 75,  1],\n",
       "       [77, 14, 83, 90, 36, 63],\n",
       "       [36, 34, 31, 64, 97, 19],\n",
       "       [87, 51, 81, 85,  7, 74]])"
      ]
     },
     "execution_count": 31,
     "metadata": {},
     "output_type": "execute_result"
    }
   ],
   "source": [
    "np.random.seed(12)\n",
    "arr = np.random.randint(1,101,36)\n",
    "arr = arr.reshape(6,6)\n",
    "arr"
   ]
  },
  {
   "cell_type": "code",
   "execution_count": 32,
   "id": "9c64c6fa",
   "metadata": {},
   "outputs": [
    {
     "data": {
      "text/plain": [
       "array([[76, 28,  7],\n",
       "       [77, 49, 23]])"
      ]
     },
     "execution_count": 32,
     "metadata": {},
     "output_type": "execute_result"
    }
   ],
   "source": [
    "arr[:2,:3]"
   ]
  },
  {
   "cell_type": "code",
   "execution_count": 33,
   "id": "83c58323",
   "metadata": {},
   "outputs": [
    {
     "data": {
      "text/plain": [
       "array([[53],\n",
       "       [75],\n",
       "       [36]])"
      ]
     },
     "execution_count": 33,
     "metadata": {},
     "output_type": "execute_result"
    }
   ],
   "source": [
    "arr[1:4,4:5]"
   ]
  },
  {
   "cell_type": "markdown",
   "id": "ff2f34c0",
   "metadata": {},
   "source": [
    "# Some important function of numpy"
   ]
  },
  {
   "cell_type": "code",
   "execution_count": 34,
   "id": "32b48959",
   "metadata": {},
   "outputs": [
    {
     "data": {
      "text/plain": [
       "array([[76, 28,  7,  3,  4, 68],\n",
       "       [77, 49, 23, 50, 53,  6],\n",
       "       [14, 90, 35, 76, 75,  1],\n",
       "       [77, 14, 83, 90, 36, 63],\n",
       "       [36, 34, 31, 64, 97, 19],\n",
       "       [87, 51, 81, 85,  7, 74]])"
      ]
     },
     "execution_count": 34,
     "metadata": {},
     "output_type": "execute_result"
    }
   ],
   "source": [
    "arr"
   ]
  },
  {
   "cell_type": "markdown",
   "id": "80126c0d",
   "metadata": {},
   "source": [
    "### Getting the maximum number from an array"
   ]
  },
  {
   "cell_type": "code",
   "execution_count": 35,
   "id": "8ed54469",
   "metadata": {},
   "outputs": [
    {
     "data": {
      "text/plain": [
       "97"
      ]
     },
     "execution_count": 35,
     "metadata": {},
     "output_type": "execute_result"
    }
   ],
   "source": [
    "np.max(arr)"
   ]
  },
  {
   "cell_type": "markdown",
   "id": "eb08c9e7",
   "metadata": {},
   "source": [
    "### Getting the maximum number from an array"
   ]
  },
  {
   "cell_type": "code",
   "execution_count": 36,
   "id": "26f5295a",
   "metadata": {},
   "outputs": [
    {
     "data": {
      "text/plain": [
       "1"
      ]
     },
     "execution_count": 36,
     "metadata": {},
     "output_type": "execute_result"
    }
   ],
   "source": [
    "np.min(arr)"
   ]
  },
  {
   "cell_type": "markdown",
   "id": "35ed285f",
   "metadata": {},
   "source": [
    "### Getting the positon of minimum number from an array"
   ]
  },
  {
   "cell_type": "code",
   "execution_count": 37,
   "id": "4576cab4",
   "metadata": {},
   "outputs": [
    {
     "data": {
      "text/plain": [
       "17"
      ]
     },
     "execution_count": 37,
     "metadata": {},
     "output_type": "execute_result"
    }
   ],
   "source": [
    "np.argmin(arr)"
   ]
  },
  {
   "cell_type": "markdown",
   "id": "311de1ca",
   "metadata": {},
   "source": [
    "### Getting the position of maximum number from an array"
   ]
  },
  {
   "cell_type": "code",
   "execution_count": 38,
   "id": "5e0f7a64",
   "metadata": {},
   "outputs": [
    {
     "data": {
      "text/plain": [
       "28"
      ]
     },
     "execution_count": 38,
     "metadata": {},
     "output_type": "execute_result"
    }
   ],
   "source": [
    "np.argmax(arr)"
   ]
  },
  {
   "cell_type": "markdown",
   "id": "24d543ba",
   "metadata": {},
   "source": [
    "### Getting the square root of every number from the arrays"
   ]
  },
  {
   "cell_type": "code",
   "execution_count": 39,
   "id": "a88ca451",
   "metadata": {},
   "outputs": [
    {
     "data": {
      "text/plain": [
       "array([[8.71779789, 5.29150262, 2.64575131, 1.73205081, 2.        ,\n",
       "        8.24621125],\n",
       "       [8.77496439, 7.        , 4.79583152, 7.07106781, 7.28010989,\n",
       "        2.44948974],\n",
       "       [3.74165739, 9.48683298, 5.91607978, 8.71779789, 8.66025404,\n",
       "        1.        ],\n",
       "       [8.77496439, 3.74165739, 9.11043358, 9.48683298, 6.        ,\n",
       "        7.93725393],\n",
       "       [6.        , 5.83095189, 5.56776436, 8.        , 9.8488578 ,\n",
       "        4.35889894],\n",
       "       [9.32737905, 7.14142843, 9.        , 9.21954446, 2.64575131,\n",
       "        8.60232527]])"
      ]
     },
     "execution_count": 39,
     "metadata": {},
     "output_type": "execute_result"
    }
   ],
   "source": [
    "np.sqrt(arr)"
   ]
  },
  {
   "cell_type": "markdown",
   "id": "fdf982a9",
   "metadata": {},
   "source": [
    "#### Getting the sin of every number from the array"
   ]
  },
  {
   "cell_type": "code",
   "execution_count": 40,
   "id": "29e78379",
   "metadata": {},
   "outputs": [
    {
     "data": {
      "text/plain": [
       "array([[ 0.56610764,  0.27090579,  0.6569866 ,  0.14112001, -0.7568025 ,\n",
       "        -0.89792768],\n",
       "       [ 0.99952016, -0.95375265, -0.8462204 , -0.26237485,  0.39592515,\n",
       "        -0.2794155 ],\n",
       "       [ 0.99060736,  0.89399666, -0.42818267,  0.56610764, -0.38778164,\n",
       "         0.84147098],\n",
       "       [ 0.99952016,  0.99060736,  0.96836446,  0.89399666, -0.99177885,\n",
       "         0.1673557 ],\n",
       "       [-0.99177885,  0.52908269, -0.40403765,  0.92002604,  0.37960774,\n",
       "         0.14987721],\n",
       "       [-0.82181784,  0.67022918, -0.62988799, -0.17607562,  0.6569866 ,\n",
       "        -0.98514626]])"
      ]
     },
     "execution_count": 40,
     "metadata": {},
     "output_type": "execute_result"
    }
   ],
   "source": [
    "np.sin(arr)"
   ]
  },
  {
   "cell_type": "markdown",
   "id": "9d9a1ad5",
   "metadata": {},
   "source": [
    "#### Getting the cos of every number from the array"
   ]
  },
  {
   "cell_type": "code",
   "execution_count": 41,
   "id": "82d8962b",
   "metadata": {},
   "outputs": [
    {
     "data": {
      "text/plain": [
       "array([[ 0.82433133, -0.96260587,  0.75390225, -0.9899925 , -0.65364362,\n",
       "         0.44014302],\n",
       "       [-0.03097503,  0.30059254, -0.53283302,  0.96496603, -0.91828279,\n",
       "         0.96017029],\n",
       "       [ 0.13673722, -0.44807362, -0.90369221,  0.82433133,  0.92175127,\n",
       "         0.54030231],\n",
       "       [-0.03097503,  0.13673722,  0.24954012, -0.44807362, -0.12796369,\n",
       "         0.98589658],\n",
       "       [-0.12796369, -0.84857027,  0.91474236,  0.39185723, -0.92514754,\n",
       "         0.98870462],\n",
       "       [ 0.56975033,  0.7421542 ,  0.77668598, -0.98437664,  0.75390225,\n",
       "         0.17171734]])"
      ]
     },
     "execution_count": 41,
     "metadata": {},
     "output_type": "execute_result"
    }
   ],
   "source": [
    "np.cos(arr)"
   ]
  },
  {
   "cell_type": "markdown",
   "id": "99a542d6",
   "metadata": {},
   "source": [
    "### Getting the number which are evenly spaced"
   ]
  },
  {
   "cell_type": "code",
   "execution_count": 42,
   "id": "58a3bc1d",
   "metadata": {},
   "outputs": [
    {
     "data": {
      "text/plain": [
       "array([ 1.  , 13.25, 25.5 , 37.75, 50.  ])"
      ]
     },
     "execution_count": 42,
     "metadata": {},
     "output_type": "execute_result"
    }
   ],
   "source": [
    "np.linspace(1,50,5)"
   ]
  },
  {
   "cell_type": "markdown",
   "id": "7557d4aa",
   "metadata": {},
   "source": [
    "### Creating any random value within any range using the Empty Function"
   ]
  },
  {
   "cell_type": "code",
   "execution_count": 47,
   "id": "78882ec4",
   "metadata": {},
   "outputs": [
    {
     "data": {
      "text/plain": [
       "array([[4.67968230e-310, 0.00000000e+000, 6.92275158e-310,\n",
       "        6.92275158e-310],\n",
       "       [6.92275158e-310, 6.92275158e-310, 6.92275158e-310,\n",
       "        6.92275158e-310],\n",
       "       [6.92275158e-310, 6.92275158e-310, 6.92275158e-310,\n",
       "        6.92275158e-310],\n",
       "       [6.92275158e-310, 6.92275158e-310, 6.92275186e-310,\n",
       "        6.92275186e-310]])"
      ]
     },
     "execution_count": 47,
     "metadata": {},
     "output_type": "execute_result"
    }
   ],
   "source": [
    "num = np.empty((4,4))\n",
    "num"
   ]
  },
  {
   "cell_type": "markdown",
   "id": "be9b36a0",
   "metadata": {},
   "source": [
    "### Creating the values on an particular range using the arange fuction"
   ]
  },
  {
   "cell_type": "code",
   "execution_count": 50,
   "id": "78e319b0",
   "metadata": {},
   "outputs": [
    {
     "data": {
      "text/plain": [
       "array([ 1,  2,  3,  4,  5,  6,  7,  8,  9, 10, 11, 12, 13, 14, 15, 16, 17,\n",
       "       18, 19, 20])"
      ]
     },
     "execution_count": 50,
     "metadata": {},
     "output_type": "execute_result"
    }
   ],
   "source": [
    "num = np.arange(1,21)\n",
    "num"
   ]
  },
  {
   "cell_type": "markdown",
   "id": "e448bdfb",
   "metadata": {},
   "source": [
    "### Creating the a range of number with the step of two"
   ]
  },
  {
   "cell_type": "code",
   "execution_count": 53,
   "id": "c4480ea0",
   "metadata": {},
   "outputs": [
    {
     "data": {
      "text/plain": [
       "array([ 1,  3,  5,  7,  9, 11, 13, 15, 17, 19])"
      ]
     },
     "execution_count": 53,
     "metadata": {},
     "output_type": "execute_result"
    }
   ],
   "source": [
    "num = np.arange(1,21,2)\n",
    "num"
   ]
  },
  {
   "cell_type": "markdown",
   "id": "c2c1bed8",
   "metadata": {},
   "source": [
    "### Creating multidimensional array to one dimensional array by using the ravel function"
   ]
  },
  {
   "cell_type": "code",
   "execution_count": 58,
   "id": "c1d07cee",
   "metadata": {},
   "outputs": [
    {
     "data": {
      "text/plain": [
       "array([76, 28,  7,  3,  4, 68, 77, 49, 23, 50, 53,  6, 14, 90, 35, 76, 75,\n",
       "        1, 77, 14, 83, 90, 36, 63, 36, 34, 31, 64, 97, 19, 87, 51, 81, 85,\n",
       "        7, 74])"
      ]
     },
     "execution_count": 58,
     "metadata": {},
     "output_type": "execute_result"
    }
   ],
   "source": [
    "np.ravel(arr)"
   ]
  },
  {
   "cell_type": "markdown",
   "id": "c17bb655",
   "metadata": {},
   "source": [
    "### Creating multidimensional array to one dimensional array by using the ravel function"
   ]
  },
  {
   "cell_type": "code",
   "execution_count": 59,
   "id": "b720f533",
   "metadata": {},
   "outputs": [
    {
     "data": {
      "text/plain": [
       "array([76, 28,  7,  3,  4, 68, 77, 49, 23, 50, 53,  6, 14, 90, 35, 76, 75,\n",
       "        1, 77, 14, 83, 90, 36, 63, 36, 34, 31, 64, 97, 19, 87, 51, 81, 85,\n",
       "        7, 74])"
      ]
     },
     "execution_count": 59,
     "metadata": {},
     "output_type": "execute_result"
    }
   ],
   "source": [
    "np.ravel(arr)"
   ]
  },
  {
   "cell_type": "code",
   "execution_count": 60,
   "id": "427bd726",
   "metadata": {},
   "outputs": [
    {
     "data": {
      "text/plain": [
       "array([[76, 28,  7,  3,  4, 68],\n",
       "       [77, 49, 23, 50, 53,  6],\n",
       "       [14, 90, 35, 76, 75,  1],\n",
       "       [77, 14, 83, 90, 36, 63],\n",
       "       [36, 34, 31, 64, 97, 19],\n",
       "       [87, 51, 81, 85,  7, 74]])"
      ]
     },
     "execution_count": 60,
     "metadata": {},
     "output_type": "execute_result"
    }
   ],
   "source": [
    "arr"
   ]
  },
  {
   "cell_type": "code",
   "execution_count": 63,
   "id": "1ddcbf71",
   "metadata": {},
   "outputs": [
    {
     "data": {
      "text/plain": [
       "array([[ 1,  2,  3,  4,  5,  6,  7],\n",
       "       [ 8,  9, 10, 11, 12, 13, 14],\n",
       "       [15, 16, 17, 18, 19, 20, 21]])"
      ]
     },
     "execution_count": 63,
     "metadata": {},
     "output_type": "execute_result"
    }
   ],
   "source": [
    "arr = np.arange(1,22)\n",
    "arr = arr.reshape(3,7)\n",
    "arr"
   ]
  },
  {
   "cell_type": "markdown",
   "id": "d75ed011",
   "metadata": {},
   "source": [
    "### Creating the transpose of a matrix using the transpose function"
   ]
  },
  {
   "cell_type": "code",
   "execution_count": 65,
   "id": "96b8494d",
   "metadata": {},
   "outputs": [
    {
     "data": {
      "text/plain": [
       "array([[ 1,  8, 15],\n",
       "       [ 2,  9, 16],\n",
       "       [ 3, 10, 17],\n",
       "       [ 4, 11, 18],\n",
       "       [ 5, 12, 19],\n",
       "       [ 6, 13, 20],\n",
       "       [ 7, 14, 21]])"
      ]
     },
     "execution_count": 65,
     "metadata": {},
     "output_type": "execute_result"
    }
   ],
   "source": [
    "arr.transpose()"
   ]
  },
  {
   "cell_type": "markdown",
   "id": "feaa5142",
   "metadata": {},
   "source": [
    "### Adding two arrays"
   ]
  },
  {
   "cell_type": "code",
   "execution_count": 67,
   "id": "053700f0",
   "metadata": {},
   "outputs": [
    {
     "data": {
      "text/plain": [
       "array([ 7,  9, 11, 13, 15])"
      ]
     },
     "execution_count": 67,
     "metadata": {},
     "output_type": "execute_result"
    }
   ],
   "source": [
    "arr_1 = [1,2,3,4,5]\n",
    "arr_2 = [6,7,8,9,10]\n",
    "\n",
    "np.add(arr_1,arr_2)"
   ]
  },
  {
   "cell_type": "markdown",
   "id": "667df139",
   "metadata": {},
   "source": [
    "### Getting the average of the function using the mean function"
   ]
  },
  {
   "cell_type": "code",
   "execution_count": 72,
   "id": "0ee5e311",
   "metadata": {},
   "outputs": [
    {
     "data": {
      "text/plain": [
       "11.0"
      ]
     },
     "execution_count": 72,
     "metadata": {},
     "output_type": "execute_result"
    }
   ],
   "source": [
    "np.mean(arr)"
   ]
  },
  {
   "cell_type": "markdown",
   "id": "9dde77d6",
   "metadata": {},
   "source": [
    "### Getting the standard division of an array using the std function"
   ]
  },
  {
   "cell_type": "code",
   "execution_count": 73,
   "id": "20ba1636",
   "metadata": {},
   "outputs": [
    {
     "data": {
      "text/plain": [
       "6.0553007081949835"
      ]
     },
     "execution_count": 73,
     "metadata": {},
     "output_type": "execute_result"
    }
   ],
   "source": [
    "np.std(arr)"
   ]
  },
  {
   "cell_type": "markdown",
   "id": "902d2a14",
   "metadata": {},
   "source": [
    "### Getting the exponential of an array using the exp function"
   ]
  },
  {
   "cell_type": "code",
   "execution_count": 77,
   "id": "13e5ae70",
   "metadata": {},
   "outputs": [
    {
     "data": {
      "text/plain": [
       "array([[2.71828183e+00, 7.38905610e+00, 2.00855369e+01, 5.45981500e+01,\n",
       "        1.48413159e+02, 4.03428793e+02, 1.09663316e+03],\n",
       "       [2.98095799e+03, 8.10308393e+03, 2.20264658e+04, 5.98741417e+04,\n",
       "        1.62754791e+05, 4.42413392e+05, 1.20260428e+06],\n",
       "       [3.26901737e+06, 8.88611052e+06, 2.41549528e+07, 6.56599691e+07,\n",
       "        1.78482301e+08, 4.85165195e+08, 1.31881573e+09]])"
      ]
     },
     "execution_count": 77,
     "metadata": {},
     "output_type": "execute_result"
    }
   ],
   "source": [
    "np.exp(arr)"
   ]
  },
  {
   "cell_type": "markdown",
   "id": "262c9aa6",
   "metadata": {},
   "source": [
    "### Getting the Log of an array using the log function"
   ]
  },
  {
   "cell_type": "code",
   "execution_count": 78,
   "id": "9fc1b1c8",
   "metadata": {},
   "outputs": [
    {
     "data": {
      "text/plain": [
       "array([[0.        , 0.69314718, 1.09861229, 1.38629436, 1.60943791,\n",
       "        1.79175947, 1.94591015],\n",
       "       [2.07944154, 2.19722458, 2.30258509, 2.39789527, 2.48490665,\n",
       "        2.56494936, 2.63905733],\n",
       "       [2.7080502 , 2.77258872, 2.83321334, 2.89037176, 2.94443898,\n",
       "        2.99573227, 3.04452244]])"
      ]
     },
     "execution_count": 78,
     "metadata": {},
     "output_type": "execute_result"
    }
   ],
   "source": [
    "np.log(arr)"
   ]
  },
  {
   "cell_type": "code",
   "execution_count": 79,
   "id": "13352282",
   "metadata": {},
   "outputs": [
    {
     "data": {
      "text/plain": [
       "array([[0.        , 0.30103   , 0.47712125, 0.60205999, 0.69897   ,\n",
       "        0.77815125, 0.84509804],\n",
       "       [0.90308999, 0.95424251, 1.        , 1.04139269, 1.07918125,\n",
       "        1.11394335, 1.14612804],\n",
       "       [1.17609126, 1.20411998, 1.23044892, 1.25527251, 1.2787536 ,\n",
       "        1.30103   , 1.32221929]])"
      ]
     },
     "execution_count": 79,
     "metadata": {},
     "output_type": "execute_result"
    }
   ],
   "source": [
    "np.log10(arr)"
   ]
  },
  {
   "cell_type": "markdown",
   "id": "9837d27c",
   "metadata": {},
   "source": [
    "### Joining two arrays using the concantenation function"
   ]
  },
  {
   "cell_type": "code",
   "execution_count": 82,
   "id": "7b5e69f1",
   "metadata": {},
   "outputs": [
    {
     "data": {
      "text/plain": [
       "array([ 1,  2,  3,  4,  5,  6,  7,  8,  9, 10])"
      ]
     },
     "execution_count": 82,
     "metadata": {},
     "output_type": "execute_result"
    }
   ],
   "source": [
    "np.concatenate((arr_1,arr_2))"
   ]
  },
  {
   "cell_type": "markdown",
   "id": "e2a7a65e",
   "metadata": {},
   "source": [
    "### Joining two arrays in the vertical dimension using the vstack function"
   ]
  },
  {
   "cell_type": "code",
   "execution_count": 85,
   "id": "51bc1418",
   "metadata": {},
   "outputs": [
    {
     "data": {
      "text/plain": [
       "array([[ 1,  2,  3,  4,  5],\n",
       "       [ 6,  7,  8,  9, 10]])"
      ]
     },
     "execution_count": 85,
     "metadata": {},
     "output_type": "execute_result"
    }
   ],
   "source": [
    "np.vstack((arr_1,arr_2))"
   ]
  },
  {
   "cell_type": "markdown",
   "id": "faf9a4d4",
   "metadata": {},
   "source": [
    "### Joining two arrays in the horizontal dimension using the hstack function"
   ]
  },
  {
   "cell_type": "code",
   "execution_count": 86,
   "id": "60132cc5",
   "metadata": {},
   "outputs": [
    {
     "data": {
      "text/plain": [
       "array([ 1,  2,  3,  4,  5,  6,  7,  8,  9, 10])"
      ]
     },
     "execution_count": 86,
     "metadata": {},
     "output_type": "execute_result"
    }
   ],
   "source": [
    "np.hstack((arr_1,arr_2))"
   ]
  },
  {
   "cell_type": "markdown",
   "id": "30995726",
   "metadata": {},
   "source": [
    "### Splitting the array using the split function"
   ]
  },
  {
   "cell_type": "code",
   "execution_count": 90,
   "id": "86cc90a0",
   "metadata": {},
   "outputs": [
    {
     "data": {
      "text/plain": [
       "[array([[1, 2, 3, 4, 5, 6, 7]]),\n",
       " array([[ 8,  9, 10, 11, 12, 13, 14]]),\n",
       " array([[15, 16, 17, 18, 19, 20, 21]])]"
      ]
     },
     "execution_count": 90,
     "metadata": {},
     "output_type": "execute_result"
    }
   ],
   "source": [
    "np.split(arr,3)"
   ]
  },
  {
   "cell_type": "code",
   "execution_count": null,
   "id": "81e9cfa5",
   "metadata": {},
   "outputs": [],
   "source": []
  }
 ],
 "metadata": {
  "kernelspec": {
   "display_name": "Python 3",
   "language": "python",
   "name": "python3"
  },
  "language_info": {
   "codemirror_mode": {
    "name": "ipython",
    "version": 3
   },
   "file_extension": ".py",
   "mimetype": "text/x-python",
   "name": "python",
   "nbconvert_exporter": "python",
   "pygments_lexer": "ipython3",
   "version": "3.8.8"
  }
 },
 "nbformat": 4,
 "nbformat_minor": 5
}
